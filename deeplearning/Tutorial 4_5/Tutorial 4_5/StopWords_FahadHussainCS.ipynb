{
  "nbformat": 4,
  "nbformat_minor": 0,
  "metadata": {
    "kernelspec": {
      "display_name": "Python 3",
      "language": "python",
      "name": "python3"
    },
    "language_info": {
      "codemirror_mode": {
        "name": "ipython",
        "version": 3
      },
      "file_extension": ".py",
      "mimetype": "text/x-python",
      "name": "python",
      "nbconvert_exporter": "python",
      "pygments_lexer": "ipython3",
      "version": "3.6.7"
    },
    "colab": {
      "name": "StopWords_FahadHussainCS.ipynb",
      "provenance": [],
      "collapsed_sections": []
    }
  },
  "cells": [
    {
      "cell_type": "markdown",
      "metadata": {
        "id": "S5v33WyRCR2S",
        "colab_type": "text"
      },
      "source": [
        "# Stop Words\n",
        "Stop words are those words that do not contribute to the deeper meaning of the phrase. They are the most common words such as: the, a, and is. For some applications like documentation classification, it may make sense to remove stop words. NLTK provides a list of commonly agreed upon stop words for a variety of languages, such as English.. "
      ]
    },
    {
      "cell_type": "code",
      "metadata": {
        "id": "yqCilyYOhaHh",
        "colab_type": "code",
        "colab": {}
      },
      "source": [
        ""
      ],
      "execution_count": null,
      "outputs": []
    },
    {
      "cell_type": "code",
      "metadata": {
        "id": "M1ehwqoXCR2T",
        "colab_type": "code",
        "colab": {}
      },
      "source": [
        "# Perform standard imports:\n",
        "import spacy\n",
        "nlp = spacy.load('en_core_web_sm')"
      ],
      "execution_count": null,
      "outputs": []
    },
    {
      "cell_type": "code",
      "metadata": {
        "id": "0PZAtJwgCVNo",
        "colab_type": "code",
        "colab": {
          "base_uri": "https://localhost:8080/",
          "height": 68
        },
        "outputId": "4e8ebdf7-d0bd-4c4f-ec70-e14a138936d0"
      },
      "source": [
        "import nltk\n",
        "nltk.download('stopwords')"
      ],
      "execution_count": null,
      "outputs": [
        {
          "output_type": "stream",
          "text": [
            "[nltk_data] Downloading package stopwords to /root/nltk_data...\n",
            "[nltk_data]   Unzipping corpora/stopwords.zip.\n"
          ],
          "name": "stdout"
        },
        {
          "output_type": "execute_result",
          "data": {
            "text/plain": [
              "True"
            ]
          },
          "metadata": {
            "tags": []
          },
          "execution_count": 2
        }
      ]
    },
    {
      "cell_type": "code",
      "metadata": {
        "id": "O3drpJkBCR2Z",
        "colab_type": "code",
        "colab": {
          "base_uri": "https://localhost:8080/",
          "height": 54
        },
        "outputId": "164d75d1-7e89-4b18-f9b5-f607d7abc6aa"
      },
      "source": [
        "# Print the set of spaCy's default stop words (remember that sets are unordered):\n",
        "print(nlp.Defaults.stop_words)"
      ],
      "execution_count": null,
      "outputs": [
        {
          "output_type": "stream",
          "text": [
            "{'say', \"'re\", 'various', 'anything', '‘ll', 'well', 'same', 'afterwards', 'ours', 'meanwhile', 'only', 'though', 'him', 'onto', 'there', 'they', 'by', 'least', 'put', 'however', 'ca', 'thereupon', 'nobody', 'every', 'already', 'is', 'now', 'rather', 'top', 'where', 'never', 'fifteen', 'thus', 'mine', 'eight', 'hereby', 'herein', 'eleven', 'if', 'across', 'go', 'move', 'someone', 'although', 'without', 'how', 'out', 'five', 'beside', 'empty', 'will', 'whereby', 'former', 'amount', 'make', 'you', 'these', 'all', 'everything', 'some', 'not', 'seem', 'fifty', 'therefore', 'done', 'alone', 'beforehand', 'himself', 'yours', 'i', 'on', 'yourself', 'call', 'none', 'many', '‘d', 'six', 'another', '’s', 'am', 'four', 'most', 'could', 'again', 'themselves', 'were', 'than', 'seemed', 'therein', 'along', 'was', 'whereupon', 'with', \"n't\", 'just', 'n‘t', '‘ve', 'their', 'less', '’ve', 'down', 'when', 'what', 'anyone', 'over', 'around', \"'ve\", 'except', 'me', 'always', 'against', 'something', 'whereas', 'part', 'his', 'front', 'before', 'toward', 'amongst', 'really', 'about', 'because', 'being', 'doing', 'nor', 'upon', '‘s', 'itself', 'first', 'herself', 'somewhere', 'due', 'does', 'others', 'thru', 'see', 'below', 'very', 'into', 'ever', 'nowhere', 'get', 'latter', 'name', 'other', 'regarding', 'twelve', 'enough', 'via', 'much', 'hereafter', 'and', 'once', 'everywhere', 'latterly', 'sometimes', 'whose', 'this', 'two', 'towards', 'nevertheless', \"'ll\", '’m', 'become', 'whom', 'else', 'throughout', 'are', 'take', 'within', 'each', 'under', 'one', 'or', 'can', 'such', 'own', 'as', 'give', 'that', '‘m', 'which', \"'m\", 'have', 'while', 'too', 'thereafter', 'becomes', 'behind', 'up', 'until', 'our', 'but', 'why', 'both', 'must', 'the', 'hers', 'yet', 'did', 'bottom', 'forty', 'otherwise', 'seeming', 'a', 'beyond', 'ten', 'nothing', 'third', '’d', 'of', 'yourselves', 'at', '’re', 'moreover', 'using', 'whereafter', 'through', 'do', 'during', 'anyway', 'hence', 'sometime', 'has', 'show', 'three', \"'d\", 'your', 'her', 'next', 'cannot', 'here', 'been', 'us', 'between', 'whether', 'from', 'would', 'becoming', 'those', 'used', 'became', 'ourselves', 'elsewhere', 'to', 'in', 'neither', 'side', 'no', 'them', 'unless', 'whoever', 'any', 'keep', 'often', 'hundred', 're', 'he', 'thereby', 'back', 'we', 'who', 'whole', 'n’t', 'myself', 'still', 'noone', 'might', \"'s\", 'be', 'indeed', 'together', 'further', 'should', 'also', 'among', 'thence', 'made', 'since', 'perhaps', 'sixty', 'several', 'please', 'whenever', 'few', 'whither', 'had', 'last', 'more', 'my', 'its', 'nine', 'whence', 'whatever', 'hereupon', 'mostly', 'namely', 'so', 'anywhere', 'she', 'above', 'for', 'almost', 'seems', 'then', 'an', '’ll', 'it', 'may', 'quite', 'serious', 'besides', 'twenty', 'formerly', '‘re', 'wherein', 'somehow', 'even', 'wherever', 'off', 'either', 'per', 'after', 'everyone', 'full', 'anyhow'}\n"
          ],
          "name": "stdout"
        }
      ]
    },
    {
      "cell_type": "code",
      "metadata": {
        "id": "diWTTaRICR2g",
        "colab_type": "code",
        "colab": {
          "base_uri": "https://localhost:8080/",
          "height": 34
        },
        "outputId": "ec779a00-2e5b-43e9-b526-721cfa755ad1"
      },
      "source": [
        "len(nlp.Defaults.stop_words)"
      ],
      "execution_count": null,
      "outputs": [
        {
          "output_type": "execute_result",
          "data": {
            "text/plain": [
              "326"
            ]
          },
          "metadata": {
            "tags": []
          },
          "execution_count": 4
        }
      ]
    },
    {
      "cell_type": "markdown",
      "metadata": {
        "id": "tWu19KsbCR2k",
        "colab_type": "text"
      },
      "source": [
        "## To see if a word is a stop word"
      ]
    },
    {
      "cell_type": "code",
      "metadata": {
        "id": "Sxj_JjAdCR2k",
        "colab_type": "code",
        "colab": {
          "base_uri": "https://localhost:8080/",
          "height": 34
        },
        "outputId": "2fbdde00-9d43-42d9-b438-83dbf1040055"
      },
      "source": [
        "nlp.vocab['myself'].is_stop"
      ],
      "execution_count": null,
      "outputs": [
        {
          "output_type": "execute_result",
          "data": {
            "text/plain": [
              "True"
            ]
          },
          "metadata": {
            "tags": []
          },
          "execution_count": 5
        }
      ]
    },
    {
      "cell_type": "code",
      "metadata": {
        "id": "Ep_V7bnOCR2o",
        "colab_type": "code",
        "colab": {
          "base_uri": "https://localhost:8080/",
          "height": 34
        },
        "outputId": "aee5a5df-1185-4533-cda7-44dccdcddb8f"
      },
      "source": [
        "nlp.vocab['mystery'].is_stop"
      ],
      "execution_count": null,
      "outputs": [
        {
          "output_type": "execute_result",
          "data": {
            "text/plain": [
              "False"
            ]
          },
          "metadata": {
            "tags": []
          },
          "execution_count": 6
        }
      ]
    },
    {
      "cell_type": "code",
      "metadata": {
        "id": "U1vIs64dCR2t",
        "colab_type": "code",
        "colab": {}
      },
      "source": [
        "# Add the word to the set of stop words. Use lowercase!\n",
        "nlp.Defaults.stop_words.add('mystery')"
      ],
      "execution_count": null,
      "outputs": []
    },
    {
      "cell_type": "code",
      "metadata": {
        "id": "SQnVv6JEiqHC",
        "colab_type": "code",
        "colab": {}
      },
      "source": [
        "# Set the stop_word tag on the lexeme\n",
        "nlp.vocab['mystery'].is_stop = True"
      ],
      "execution_count": null,
      "outputs": []
    },
    {
      "cell_type": "code",
      "metadata": {
        "id": "IO-WF_1mCR2x",
        "colab_type": "code",
        "colab": {
          "base_uri": "https://localhost:8080/",
          "height": 34
        },
        "outputId": "5182d797-f8b1-47b4-c384-2d823b415699"
      },
      "source": [
        "len(nlp.Defaults.stop_words)"
      ],
      "execution_count": null,
      "outputs": [
        {
          "output_type": "execute_result",
          "data": {
            "text/plain": [
              "327"
            ]
          },
          "metadata": {
            "tags": []
          },
          "execution_count": 9
        }
      ]
    },
    {
      "cell_type": "code",
      "metadata": {
        "id": "oMMCzOUACR21",
        "colab_type": "code",
        "colab": {
          "base_uri": "https://localhost:8080/",
          "height": 34
        },
        "outputId": "8e8ae166-3a1f-46b9-b60c-d5a13f4deca4"
      },
      "source": [
        "nlp.vocab['mystery'].is_stop"
      ],
      "execution_count": null,
      "outputs": [
        {
          "output_type": "execute_result",
          "data": {
            "text/plain": [
              "True"
            ]
          },
          "metadata": {
            "tags": []
          },
          "execution_count": 10
        }
      ]
    },
    {
      "cell_type": "markdown",
      "metadata": {
        "id": "p58rPB42CR24",
        "colab_type": "text"
      },
      "source": [
        "## To remove a stop word\n",
        "Alternatively, you may decide that `'beyond'` should not be considered a stop word."
      ]
    },
    {
      "cell_type": "code",
      "metadata": {
        "id": "0KEtYBNRCR25",
        "colab_type": "code",
        "colab": {}
      },
      "source": [
        "# Remove the word from the set of stop words\n",
        "nlp.Defaults.stop_words.remove('beyond')\n",
        "\n",
        "# Remove the stop_word tag from the lexeme\n",
        "nlp.vocab['beyond'].is_stop = False"
      ],
      "execution_count": null,
      "outputs": []
    },
    {
      "cell_type": "code",
      "metadata": {
        "id": "iQr5IK3CCR28",
        "colab_type": "code",
        "colab": {
          "base_uri": "https://localhost:8080/",
          "height": 34
        },
        "outputId": "a4f3f68a-6268-4ed1-c262-f870b2bd369c"
      },
      "source": [
        "len(nlp.Defaults.stop_words)"
      ],
      "execution_count": null,
      "outputs": [
        {
          "output_type": "execute_result",
          "data": {
            "text/plain": [
              "326"
            ]
          },
          "metadata": {
            "tags": []
          },
          "execution_count": 12
        }
      ]
    },
    {
      "cell_type": "code",
      "metadata": {
        "id": "ZLnWlnDQCR2_",
        "colab_type": "code",
        "colab": {
          "base_uri": "https://localhost:8080/",
          "height": 34
        },
        "outputId": "019a669d-b077-4289-f567-5df00fbcb4d3"
      },
      "source": [
        "nlp.vocab['beyond'].is_stop"
      ],
      "execution_count": null,
      "outputs": [
        {
          "output_type": "execute_result",
          "data": {
            "text/plain": [
              "False"
            ]
          },
          "metadata": {
            "tags": []
          },
          "execution_count": 13
        }
      ]
    },
    {
      "cell_type": "code",
      "metadata": {
        "id": "TCyp1UmXCxgJ",
        "colab_type": "code",
        "colab": {
          "base_uri": "https://localhost:8080/",
          "height": 51
        },
        "outputId": "3ea34f16-1f46-4b5a-b25e-d9d720a9debc"
      },
      "source": [
        "import string\n",
        "import re\n",
        "import nltk\n",
        "nltk.download('punkt')\n",
        "from nltk import word_tokenize,sent_tokenize\n",
        "from nltk.corpus import stopwords\n",
        "# load data\n",
        "text = 'The Quick brown fox jump over the lazy dog!'"
      ],
      "execution_count": null,
      "outputs": [
        {
          "output_type": "stream",
          "text": [
            "[nltk_data] Downloading package punkt to /root/nltk_data...\n",
            "[nltk_data]   Unzipping tokenizers/punkt.zip.\n"
          ],
          "name": "stdout"
        }
      ]
    },
    {
      "cell_type": "code",
      "metadata": {
        "id": "pehkONOeDPd-",
        "colab_type": "code",
        "colab": {
          "base_uri": "https://localhost:8080/",
          "height": 34
        },
        "outputId": "f65a8bd5-7adf-4f49-b4e5-a191f4378f16"
      },
      "source": [
        "# split into words\n",
        "tokens = word_tokenize(text)\n",
        "print(tokens)"
      ],
      "execution_count": null,
      "outputs": [
        {
          "output_type": "stream",
          "text": [
            "['The', 'Quick', 'brown', 'fox', 'jump', 'over', 'the', 'lazy', 'dog', '!']\n"
          ],
          "name": "stdout"
        }
      ]
    },
    {
      "cell_type": "code",
      "metadata": {
        "id": "K0zTYJKID--l",
        "colab_type": "code",
        "colab": {
          "base_uri": "https://localhost:8080/",
          "height": 34
        },
        "outputId": "2aadf62e-6504-43d6-f9db-a62d16c59c00"
      },
      "source": [
        "# convert to lower case\n",
        "tokens = [w.lower() for w in tokens]\n",
        "print(tokens)"
      ],
      "execution_count": null,
      "outputs": [
        {
          "output_type": "stream",
          "text": [
            "['the', 'quick', 'brown', 'fox', 'jump', 'over', 'the', 'lazy', 'dog', '!']\n"
          ],
          "name": "stdout"
        }
      ]
    },
    {
      "cell_type": "code",
      "metadata": {
        "id": "PXAJpO5hEEcj",
        "colab_type": "code",
        "colab": {
          "base_uri": "https://localhost:8080/",
          "height": 34
        },
        "outputId": "2f5afa33-d27f-4a47-8112-770cd7a2da8d"
      },
      "source": [
        "# prepare regex for char filtering\n",
        "re_punc = re.compile('[%s]' % re.escape(string.punctuation))\n",
        "print(re_punc)"
      ],
      "execution_count": null,
      "outputs": [
        {
          "output_type": "stream",
          "text": [
            "re.compile('[\\\\!\\\\\"\\\\#\\\\$\\\\%\\\\&\\\\\\'\\\\(\\\\)\\\\*\\\\+\\\\,\\\\-\\\\.\\\\/\\\\:\\\\;\\\\<\\\\=\\\\>\\\\?\\\\@\\\\[\\\\\\\\\\\\]\\\\^_\\\\`\\\\{\\\\|\\\\}\\\\~]')\n"
          ],
          "name": "stdout"
        }
      ]
    },
    {
      "cell_type": "code",
      "metadata": {
        "id": "IRupmyA-EF7z",
        "colab_type": "code",
        "colab": {
          "base_uri": "https://localhost:8080/",
          "height": 34
        },
        "outputId": "57187a4f-2fb1-4500-e194-227f377a05f3"
      },
      "source": [
        "# remove punctuation from each word\n",
        "stripped = [re_punc.sub('', w) for w in tokens]\n",
        "print(stripped)"
      ],
      "execution_count": null,
      "outputs": [
        {
          "output_type": "stream",
          "text": [
            "['the', 'quick', 'brown', 'fox', 'jump', 'over', 'the', 'lazy', 'dog', '']\n"
          ],
          "name": "stdout"
        }
      ]
    },
    {
      "cell_type": "code",
      "metadata": {
        "id": "c0__AkhWEHPT",
        "colab_type": "code",
        "colab": {
          "base_uri": "https://localhost:8080/",
          "height": 34
        },
        "outputId": "5d8bf427-19e9-47a0-c269-31d4ce85f49e"
      },
      "source": [
        "# remove remaining tokens that are not alphabetic\n",
        "words = [word for word in stripped if word.isalpha()]\n",
        "print(words)"
      ],
      "execution_count": null,
      "outputs": [
        {
          "output_type": "stream",
          "text": [
            "['the', 'quick', 'brown', 'fox', 'jump', 'over', 'the', 'lazy', 'dog']\n"
          ],
          "name": "stdout"
        }
      ]
    },
    {
      "cell_type": "code",
      "metadata": {
        "id": "6WYqyINsEIhD",
        "colab_type": "code",
        "colab": {
          "base_uri": "https://localhost:8080/",
          "height": 34
        },
        "outputId": "1917537b-051f-43e8-bb76-6d741163eecf"
      },
      "source": [
        "# filter out non-stop words\n",
        "stop_words = set(stopwords.words('english'))\n",
        "words = [w for w in words if not w in stop_words]\n",
        "print(words)"
      ],
      "execution_count": null,
      "outputs": [
        {
          "output_type": "stream",
          "text": [
            "['quick', 'brown', 'fox', 'jump', 'lazy', 'dog']\n"
          ],
          "name": "stdout"
        }
      ]
    },
    {
      "cell_type": "code",
      "metadata": {
        "id": "2DdtvLMggo4P",
        "colab_type": "code",
        "colab": {
          "base_uri": "https://localhost:8080/",
          "height": 34
        },
        "outputId": "e32cca62-64b8-4b6a-8479-330e2b485d90"
      },
      "source": [
        "nlp.vocab['dog'].is_stop"
      ],
      "execution_count": null,
      "outputs": [
        {
          "output_type": "execute_result",
          "data": {
            "text/plain": [
              "False"
            ]
          },
          "metadata": {
            "tags": []
          },
          "execution_count": 26
        }
      ]
    },
    {
      "cell_type": "code",
      "metadata": {
        "id": "khKxrWYhgp1P",
        "colab_type": "code",
        "colab": {}
      },
      "source": [
        ""
      ],
      "execution_count": null,
      "outputs": []
    }
  ]
}